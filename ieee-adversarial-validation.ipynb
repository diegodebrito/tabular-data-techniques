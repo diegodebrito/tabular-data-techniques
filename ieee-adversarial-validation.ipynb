{
 "cells": [
  {
   "cell_type": "code",
   "execution_count": 1,
   "metadata": {
    "ExecuteTime": {
     "end_time": "2020-03-18T23:37:10.390847Z",
     "start_time": "2020-03-18T23:37:08.652398Z"
    }
   },
   "outputs": [],
   "source": [
    "import pandas as pd\n",
    "import numpy as np\n",
    "import matplotlib.pyplot as plt\n",
    "import seaborn as sns"
   ]
  },
  {
   "cell_type": "code",
   "execution_count": 2,
   "metadata": {
    "ExecuteTime": {
     "end_time": "2020-03-18T23:37:10.395850Z",
     "start_time": "2020-03-18T23:37:10.392856Z"
    }
   },
   "outputs": [],
   "source": [
    "import gc"
   ]
  },
  {
   "cell_type": "code",
   "execution_count": 3,
   "metadata": {
    "ExecuteTime": {
     "end_time": "2020-03-18T23:37:10.487869Z",
     "start_time": "2020-03-18T23:37:10.398851Z"
    }
   },
   "outputs": [],
   "source": [
    "# Label encoder keeps the missing values...\n",
    "from sklearn.preprocessing import LabelEncoder\n",
    "from sklearn.model_selection import train_test_split"
   ]
  },
  {
   "cell_type": "code",
   "execution_count": 4,
   "metadata": {
    "ExecuteTime": {
     "end_time": "2020-03-18T23:37:10.517851Z",
     "start_time": "2020-03-18T23:37:10.488849Z"
    }
   },
   "outputs": [],
   "source": [
    "import lightgbm as lgb"
   ]
  },
  {
   "cell_type": "markdown",
   "metadata": {},
   "source": [
    "# Loading Data"
   ]
  },
  {
   "cell_type": "code",
   "execution_count": 5,
   "metadata": {
    "ExecuteTime": {
     "end_time": "2020-03-18T23:37:14.210028Z",
     "start_time": "2020-03-18T23:37:10.518848Z"
    }
   },
   "outputs": [],
   "source": [
    "train = pd.read_pickle('./data/train_pickle.pkl')"
   ]
  },
  {
   "cell_type": "code",
   "execution_count": 6,
   "metadata": {
    "ExecuteTime": {
     "end_time": "2020-03-18T23:37:18.522144Z",
     "start_time": "2020-03-18T23:37:14.211997Z"
    }
   },
   "outputs": [],
   "source": [
    "test = pd.read_pickle('./data/test_pickle.pkl')"
   ]
  },
  {
   "cell_type": "code",
   "execution_count": 7,
   "metadata": {
    "ExecuteTime": {
     "end_time": "2020-03-18T23:37:18.616281Z",
     "start_time": "2020-03-18T23:37:18.524144Z"
    }
   },
   "outputs": [],
   "source": [
    "feat_importance = pd.read_csv('./data/feature_importance.csv')"
   ]
  },
  {
   "cell_type": "markdown",
   "metadata": {},
   "source": [
    "# Preprocessing:"
   ]
  },
  {
   "cell_type": "markdown",
   "metadata": {},
   "source": [
    "We want to merge the two datasets and create a new target column (is_on_test):"
   ]
  },
  {
   "cell_type": "code",
   "execution_count": 8,
   "metadata": {
    "ExecuteTime": {
     "end_time": "2020-03-18T23:37:19.567357Z",
     "start_time": "2020-03-18T23:37:18.618285Z"
    }
   },
   "outputs": [],
   "source": [
    "train.drop('isFraud', axis=1, inplace=True)"
   ]
  },
  {
   "cell_type": "code",
   "execution_count": 9,
   "metadata": {
    "ExecuteTime": {
     "end_time": "2020-03-18T23:37:19.577333Z",
     "start_time": "2020-03-18T23:37:19.569329Z"
    }
   },
   "outputs": [],
   "source": [
    "train['is_on_test'] = 0\n",
    "test['is_on_test'] = 1"
   ]
  },
  {
   "cell_type": "code",
   "execution_count": 10,
   "metadata": {
    "ExecuteTime": {
     "end_time": "2020-03-18T23:37:31.623366Z",
     "start_time": "2020-03-18T23:37:19.579332Z"
    }
   },
   "outputs": [],
   "source": [
    "data = pd.concat([train, test])\n",
    "y = data['is_on_test']\n",
    "data.drop('is_on_test', axis=1, inplace=True)"
   ]
  },
  {
   "cell_type": "code",
   "execution_count": 11,
   "metadata": {
    "ExecuteTime": {
     "end_time": "2020-03-18T23:37:32.356529Z",
     "start_time": "2020-03-18T23:37:31.630334Z"
    }
   },
   "outputs": [
    {
     "data": {
      "text/plain": [
       "48"
      ]
     },
     "execution_count": 11,
     "metadata": {},
     "output_type": "execute_result"
    }
   ],
   "source": [
    "del train\n",
    "del test\n",
    "gc.collect()"
   ]
  },
  {
   "cell_type": "markdown",
   "metadata": {},
   "source": [
    "Adding count of days from the start:"
   ]
  },
  {
   "cell_type": "code",
   "execution_count": 12,
   "metadata": {
    "ExecuteTime": {
     "end_time": "2020-03-18T23:37:32.442652Z",
     "start_time": "2020-03-18T23:37:32.358531Z"
    }
   },
   "outputs": [],
   "source": [
    "first_day = pd.date_range('2017-12-01', periods=1)[0]\n",
    "data['days_from_start'] = (data['TransactionDT'] - first_day).dt.days"
   ]
  },
  {
   "cell_type": "markdown",
   "metadata": {},
   "source": [
    "Normalizing D columns:"
   ]
  },
  {
   "cell_type": "code",
   "execution_count": 13,
   "metadata": {
    "ExecuteTime": {
     "end_time": "2020-03-18T23:37:32.446543Z",
     "start_time": "2020-03-18T23:37:32.443563Z"
    }
   },
   "outputs": [],
   "source": [
    "D_columns = ['D'+str(i) for i in range(1, 16)]"
   ]
  },
  {
   "cell_type": "code",
   "execution_count": 14,
   "metadata": {
    "ExecuteTime": {
     "end_time": "2020-03-18T23:38:20.381530Z",
     "start_time": "2020-03-18T23:37:32.448529Z"
    }
   },
   "outputs": [],
   "source": [
    "for col in D_columns:\n",
    "    data[col+'_n'] = data['days_from_start'] - data[col]\n",
    "    data.drop(col, axis=1, inplace=True)"
   ]
  },
  {
   "cell_type": "markdown",
   "metadata": {},
   "source": [
    "Let's add some combinations of features that may identify card holder:"
   ]
  },
  {
   "cell_type": "code",
   "execution_count": 15,
   "metadata": {
    "ExecuteTime": {
     "end_time": "2020-03-18T23:38:20.387532Z",
     "start_time": "2020-03-18T23:38:20.383531Z"
    }
   },
   "outputs": [],
   "source": [
    "v_columns = ['V' + str(i) for i in range(1, 340)]"
   ]
  },
  {
   "cell_type": "code",
   "execution_count": 16,
   "metadata": {
    "ExecuteTime": {
     "end_time": "2020-03-18T23:38:21.143563Z",
     "start_time": "2020-03-18T23:38:20.389530Z"
    }
   },
   "outputs": [],
   "source": [
    "data.drop(v_columns, axis=1, inplace=True)"
   ]
  },
  {
   "cell_type": "markdown",
   "metadata": {},
   "source": [
    "Encoding categorical labels with LabelEncoder (preserves NAs):"
   ]
  },
  {
   "cell_type": "code",
   "execution_count": 17,
   "metadata": {
    "ExecuteTime": {
     "end_time": "2020-03-18T23:38:21.152564Z",
     "start_time": "2020-03-18T23:38:21.144561Z"
    }
   },
   "outputs": [],
   "source": [
    "object_columns = [col for col in data.columns if data[col].dtype == object]"
   ]
  },
  {
   "cell_type": "code",
   "execution_count": null,
   "metadata": {
    "ExecuteTime": {
     "start_time": "2020-03-18T23:37:08.690Z"
    }
   },
   "outputs": [],
   "source": [
    "for col in object_columns:\n",
    "    lbl = LabelEncoder()\n",
    "    lbl.fit(list(data[col].values))\n",
    "    data[col] = lbl.transform(list(data[col].values))"
   ]
  },
  {
   "cell_type": "markdown",
   "metadata": {},
   "source": [
    "Dropping columns that would make the task trivial:"
   ]
  },
  {
   "cell_type": "code",
   "execution_count": null,
   "metadata": {
    "ExecuteTime": {
     "start_time": "2020-03-18T23:37:08.692Z"
    }
   },
   "outputs": [],
   "source": [
    "data.drop(['days_from_start','TransactionID','TransactionDT'], axis=1, inplace=True)"
   ]
  },
  {
   "cell_type": "markdown",
   "metadata": {},
   "source": [
    "# Model:"
   ]
  },
  {
   "cell_type": "code",
   "execution_count": 102,
   "metadata": {
    "ExecuteTime": {
     "end_time": "2020-03-18T16:08:51.290420Z",
     "start_time": "2020-03-18T16:08:50.269455Z"
    }
   },
   "outputs": [],
   "source": [
    "X_train, X_test, y_train, y_test = train_test_split(data, y, test_size=0.33,\n",
    "                                                    random_state=42, shuffle=True)"
   ]
  },
  {
   "cell_type": "code",
   "execution_count": 103,
   "metadata": {
    "ExecuteTime": {
     "end_time": "2020-03-18T16:08:51.316419Z",
     "start_time": "2020-03-18T16:08:51.292420Z"
    }
   },
   "outputs": [],
   "source": [
    "train_dataset = lgb.Dataset(X_train, y_train)\n",
    "test_dataset = lgb.Dataset(X_test, y_test)"
   ]
  },
  {
   "cell_type": "code",
   "execution_count": 104,
   "metadata": {
    "ExecuteTime": {
     "end_time": "2020-03-18T16:08:51.323421Z",
     "start_time": "2020-03-18T16:08:51.317423Z"
    }
   },
   "outputs": [],
   "source": [
    "param = {'num_leaves': 50,\n",
    "         'min_data_in_leaf': 30, \n",
    "         'objective':'binary',\n",
    "         'max_depth': 5,\n",
    "         'learning_rate': 0.2,\n",
    "         \"min_child_samples\": 20,\n",
    "         \"boosting\": \"gbdt\",\n",
    "         \"feature_fraction\": 0.9,\n",
    "         \"bagging_freq\": 1,\n",
    "         \"bagging_fraction\": 0.9 ,\n",
    "         \"bagging_seed\": 44,\n",
    "         \"metric\": 'auc',\n",
    "         \"verbosity\": -1}"
   ]
  },
  {
   "cell_type": "code",
   "execution_count": 105,
   "metadata": {
    "ExecuteTime": {
     "end_time": "2020-03-18T16:09:05.603936Z",
     "start_time": "2020-03-18T16:08:51.326424Z"
    }
   },
   "outputs": [
    {
     "name": "stdout",
     "output_type": "stream",
     "text": [
      "Training until validation scores don't improve for 50 rounds\n",
      "[50]\ttraining's auc: 0.998935\tvalid_1's auc: 0.998893\n",
      "Did not meet early stopping. Best iteration is:\n",
      "[50]\ttraining's auc: 0.998935\tvalid_1's auc: 0.998893\n"
     ]
    }
   ],
   "source": [
    "num_round = 50\n",
    "clf = lgb.train(param, train_dataset, num_round, \n",
    "                valid_sets = [train_dataset, test_dataset], \n",
    "                verbose_eval=50, early_stopping_rounds = 50)"
   ]
  },
  {
   "cell_type": "markdown",
   "metadata": {},
   "source": [
    "We are able to separate training and test data almost perfectly with the available features. This shows that train and test datasets come from different distributions (or at least have some noise added that makes them identifiable)."
   ]
  },
  {
   "cell_type": "markdown",
   "metadata": {},
   "source": [
    "Feature Importance:"
   ]
  },
  {
   "cell_type": "code",
   "execution_count": 106,
   "metadata": {
    "ExecuteTime": {
     "end_time": "2020-03-18T16:09:06.147972Z",
     "start_time": "2020-03-18T16:09:05.606940Z"
    }
   },
   "outputs": [
    {
     "data": {
      "image/png": "[encoded data removed]",
      "text/plain": [
       "<Figure size 1440x720 with 1 Axes>"
      ]
     },
     "metadata": {
      "needs_background": "light"
     },
     "output_type": "display_data"
    }
   ],
   "source": [
    "features = X_train.columns\n",
    "feature_imp = pd.DataFrame(sorted(zip(clf.feature_importance(),features)), columns=['Value','Feature'])\n",
    "\n",
    "plt.figure(figsize=(20, 10))\n",
    "sns.barplot(x=\"Value\", y=\"Feature\", data=feature_imp.sort_values(by=\"Value\", ascending=False).head(30))\n",
    "plt.title('LightGBM Features')\n",
    "plt.tight_layout()\n",
    "plt.show()"
   ]
  }
 ],
 "metadata": {
  "kernelspec": {
   "display_name": "Python [conda env:dl]",
   "language": "python",
   "name": "conda-env-dl-py"
  },
  "language_info": {
   "codemirror_mode": {
    "name": "ipython",
    "version": 3
   },
   "file_extension": ".py",
   "mimetype": "text/x-python",
   "name": "python",
   "nbconvert_exporter": "python",
   "pygments_lexer": "ipython3",
   "version": "3.7.3"
  },
  "toc": {
   "base_numbering": 1,
   "nav_menu": {},
   "number_sections": true,
   "sideBar": true,
   "skip_h1_title": false,
   "title_cell": "Table of Contents",
   "title_sidebar": "Contents",
   "toc_cell": false,
   "toc_position": {},
   "toc_section_display": true,
   "toc_window_display": false
  },
  "varInspector": {
   "cols": {
    "lenName": 16,
    "lenType": 16,
    "lenVar": 40
   },
   "kernels_config": {
    "python": {
     "delete_cmd_postfix": "",
     "delete_cmd_prefix": "del ",
     "library": "var_list.py",
     "varRefreshCmd": "print(var_dic_list())"
    },
    "r": {
     "delete_cmd_postfix": ") ",
     "delete_cmd_prefix": "rm(",
     "library": "var_list.r",
     "varRefreshCmd": "cat(var_dic_list()) "
    }
   },
   "types_to_exclude": [
    "module",
    "function",
    "builtin_function_or_method",
    "instance",
    "_Feature"
   ],
   "window_display": false
  }
 },
 "nbformat": 4,
 "nbformat_minor": 2
}
